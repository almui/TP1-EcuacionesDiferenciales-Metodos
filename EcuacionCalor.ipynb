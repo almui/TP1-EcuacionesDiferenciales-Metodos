{
 "cells": [
  {
   "cell_type": "markdown",
   "id": "6f43c06e",
   "metadata": {},
   "source": [
    "Universidad Torcuato Di Tella\n",
    "\n",
    "Metodos computacionales\\\n",
    "**Trabajo Práctico 1:\n",
    "Resoluciones Numéricas de Ecuaciones Diferenciales**"
   ]
  },
  {
   "cell_type": "code",
   "execution_count": null,
   "id": "33c9ca51",
   "metadata": {},
   "outputs": [],
   "source": [
    "import numpy as np\n",
    "import pandas as pd\n",
    "import matplotlib.pyplot as plt"
   ]
  }
 ],
 "metadata": {
  "kernelspec": {
   "display_name": "Python 3",
   "language": "python",
   "name": "python3"
  },
  "language_info": {
   "name": "python",
   "version": "3.13.4"
  }
 },
 "nbformat": 4,
 "nbformat_minor": 5
}
