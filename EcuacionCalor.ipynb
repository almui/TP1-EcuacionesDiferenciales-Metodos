{
 "cells": [
  {
   "cell_type": "markdown",
   "id": "6f43c06e",
   "metadata": {},
   "source": [
    "Universidad Torcuato Di Tella\n",
    "\n",
    "Metodos computacionales\\\n",
    "**Trabajo Práctico 1:\n",
    "Resoluciones Numéricas de Ecuaciones Diferenciales**"
   ]
  },
  {
   "cell_type": "code",
   "execution_count": null,
   "id": "33c9ca51",
   "metadata": {},
   "outputs": [
    {
     "ename": "",
     "evalue": "",
     "output_type": "error",
     "traceback": [
      "\u001b[1;31mRunning cells with 'base (Python 3.13.5)' requires the ipykernel package.\n",
      "\u001b[1;31m<a href='command:jupyter.createPythonEnvAndSelectController'>Create a Python Environment</a> with the required packages.\n",
      "\u001b[1;31mOr install 'ipykernel' using the command: 'conda install -n base ipykernel --update-deps --force-reinstall'"
     ]
    }
   ],
   "source": [
    "import numpy as np\n",
    "import pandas as pd\n",
    "import matplotlib.pyplot as plt\n",
    "\n",
    "def f_piecewise(x):\n",
    "    out = np.zeros_like(x)\n",
    "    m = (0 <= x) & (x < 0.25);  out[m] = 4.0*x[m]\n",
    "    m = (0.25 <= x) & (x < 0.50); out[m] = -2.0*x[m] + 1.5\n",
    "    m = (0.50 <= x) & (x < 0.75); out[m] =  2.0*x[m] - 0.5\n",
    "    m = (0.75 <= x) & (x <= 1.00); out[m] = -4.0*x[m] + 4.0\n",
    "    return out\n",
    "\n",
    "def heat_explicit(alpha, f, dx, dt, T):\n",
    "    N  = int(round(1.0/dx))\n",
    "    x  = np.linspace(0.0, 1.0, N+1)\n",
    "    Nt = int(round(T/dt))\n",
    "    r  = alpha * dt / (dx*dx)\n",
    "    U  = np.zeros((Nt+1, N+1))\n",
    "    U[0, :] = f(x)\n",
    "    for n in range(Nt):\n",
    "        Un = U[n, :]\n",
    "        U[n+1, 1:-1] = Un[1:-1] + r*(Un[2:] - 2.0*Un[1:-1] + Un[:-2])\n",
    "    return U, x, np.linspace(0.0, T, Nt+1), r\n",
    "\n",
    "def _thomas(a, b, c, d):\n",
    "    n = len(b)\n",
    "    ac, bc, cc, dc = a.copy(), b.copy(), c.copy(), d.copy()\n",
    "    for i in range(1, n):\n",
    "        m = ac[i-1] / bc[i-1]\n",
    "        bc[i] -= m * cc[i-1]\n",
    "        dc[i] -= m * dc[i-1]\n",
    "    x = np.zeros(n)\n",
    "    x[-1] = dc[-1] / bc[-1]\n",
    "    for i in range(n-2, -1, -1):\n",
    "        x[i] = (dc[i] - cc[i] * x[i+1]) / bc[i]\n",
    "    return x\n",
    "\n",
    "def heat_implicit(alpha, f, dx, dt, T):\n",
    "    N  = int(round(1.0/dx))\n",
    "    x  = np.linspace(0.0, 1.0, N+1)\n",
    "    Nt = int(round(T/dt))\n",
    "    r  = alpha * dt / (dx*dx)\n",
    "    U  = np.zeros((Nt+1, N+1))\n",
    "    U[0, :] = f(x)\n",
    "    m = N - 1\n",
    "    a = -r * np.ones(m-1)\n",
    "    b = (1 + 2*r) * np.ones(m)\n",
    "    c = -r * np.ones(m-1)\n",
    "    for n in range(Nt):\n",
    "        rhs = U[n, 1:-1].copy()\n",
    "        U[n+1, 1:-1] = _thomas(a, b, c, rhs)\n",
    "    return U, x, np.linspace(0.0, T, Nt+1), r\n",
    "\n",
    "# Ejecución con los parámetros del TP\n",
    "if __name__ == \"__main__\":\n",
    "    alpha, dx, dt, T = 1.0, 0.05, 0.001, 0.1\n",
    "    Ue, x, t, r = heat_explicit(alpha, f_piecewise, dx, dt, T)\n",
    "    Ui, x, t, _ = heat_implicit(alpha, f_piecewise, dx, dt, T)\n",
    "    # Guardado a CSV y GIF: ver notebook o script adjunto.\n",
    "\n"
   ]
  }
 ],
 "metadata": {
  "kernelspec": {
   "display_name": "base",
   "language": "python",
   "name": "python3"
  },
  "language_info": {
   "name": "python",
   "version": "3.13.5"
  }
 },
 "nbformat": 4,
 "nbformat_minor": 5
}
