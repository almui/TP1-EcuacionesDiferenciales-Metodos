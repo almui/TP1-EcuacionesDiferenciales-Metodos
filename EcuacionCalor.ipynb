{
 "cells": [
  {
   "cell_type": "markdown",
   "id": "6f43c06e",
   "metadata": {},
   "source": [
    "Universidad Torcuato Di Tella\n",
    "\n",
    "Metodos computacionales\\\n",
    "**Trabajo Práctico 1:\n",
    "Resoluciones Numéricas de Ecuaciones Diferenciales**"
   ]
  },
  {
   "cell_type": "code",
   "execution_count": null,
   "id": "3cd5ad1f",
   "metadata": {},
   "outputs": [],
   "source": [
    "import numpy as np\n",
    "import pandas as pd\n",
    "import matplotlib.pyplot as plt\n",
    "\n",
    "def condicion_inicial(x):\n",
    "    if 0 <= x and x < 0.25:\n",
    "        return 4.0*x\n",
    "    elif 0.25 <= x and x < 0.50:\n",
    "        return -2.0*x + 1.5\n",
    "    elif 0.50 <= x and x < 0.75:\n",
    "        return 2.0*x - 0.5\n",
    "    elif 0.75 <= x and x <= 1.00:\n",
    "        return -4.0*x + 4.0\n",
    "    else:\n",
    "        print(\"x tiene que tenr un valor entre 0 y 1\")\n",
    "                       \n",
    "\n",
    "\n",
    "def e_c_metodoexplicito(alpha, funcion, dx, dt, T):\n",
    "    N  = int(round(1.0/dx))\n",
    "    M = int(round(T/dt))\n",
    "    x = np.arange(0, 1+dx, dx, dtype = float)\n",
    "    t = np.arange(0, T+dt, dt, dtype = float)\n",
    "    matriz_u = np.zeros((M+1, N+1), dtype = float)\n",
    "    r  = alpha * dt / (dx**2)\n",
    "    y = np.zeros(N+1)\n",
    "    for pos in range(N+1):\n",
    "        y[pos] =funcion(x[pos]) \n",
    "    matriz_u[0, :] = y # la primero fila se llena con la condicion inicial\n",
    "    A = np.zeros((N-1, N-1))\n",
    "    for a in range(N-1):\n",
    "        A[a, a] = 1 - 2*r\n",
    "        if a > 0:\n",
    "            A[a, a-1] = r\n",
    "        if a < N-2:\n",
    "            A[a, a+1] = r\n",
    "\n",
    "    for n in range(M): #las filas \n",
    "        x_vec = matriz_u[n, 1:N] #b es la fila i seleccionando todos los elementos excepto el primer elmento  y el ultimo por las condiciones de borde \n",
    "        b = A.dot(x_vec) \n",
    "        matriz_u[n+1, 1:N] = b\n",
    "    return matriz_u, x, t, y\n",
    "\n",
    "def e_c_metodoimplicito(alpha, funcion, dx, dt, T):\n",
    "    N  = int(round(1.0/dx))\n",
    "    M = int(round(T/dt))\n",
    "    x = np.arange(0, 1+dx, dx, dtype = float)\n",
    "    t = np.arange(0, T+dt, dt, dtype = float)\n",
    "    matriz_u = np.zeros((M+1, N+1), dtype = float)\n",
    "    r  = alpha * dt / (dx**2)\n",
    "    y = np.zeros(N+1)\n",
    "    for pos in range(N+1):\n",
    "        y[pos] =funcion(x[pos]) \n",
    "    matriz_u[0, :] = y # la primero fila se llena con la condicion inicial\n",
    "    A = np.zeros((N-1, N-1))\n",
    "    for a in range(N-1):\n",
    "        A[a, a] = 1 + 2*r\n",
    "        if a > 0:\n",
    "            A[a, a-1] = -r\n",
    "        if a < N-2:\n",
    "            A[a, a+1] = -r\n",
    "\n",
    "    for n in range(M):\n",
    "        b = matriz_u[n, 1:N] #b es la fila i seleccionando todos los elementos excepto el primer elmento  y el ultimo por las condiciones de borde \n",
    "\n",
    "        u_interior = np.linalg.solve(A, b) #resuelve la ecuacion lineal \n",
    "        matriz_u[n+1, 1:N] = u_interior\n",
    "\n",
    "    return matriz_u, x, t,y"
   ]
  },
  {
   "cell_type": "code",
   "execution_count": null,
   "id": "f77355b9",
   "metadata": {},
   "outputs": [],
   "source": [
    "alpha = 1.0\n",
    "dx    = 0.05\n",
    "dt    = 0.001\n",
    "T     = 0.1\n",
    "\n",
    "U_e, x_e, t_e, y_e = e_c_metodoexplicito(alpha, condicion_inicial, dx, dt, T)\n",
    "U_i, x_i, t_i, y_i= e_c_metodoimplicito(alpha, condicion_inicial, dx, dt, T)\n"
   ]
  },
  {
   "cell_type": "code",
   "execution_count": null,
   "id": "a28f1aef",
   "metadata": {},
   "outputs": [],
   "source": [
    "from matplotlib.animation import FuncAnimation, PillowWriter\n",
    "\n",
    "def crear_gif(alpha, funcion, dx, dt, T, nombre_gif):\n",
    "    u_ex, x_e, t_e, y_e = e_c_metodoexplicito(alpha, funcion, dx, dt, T)\n",
    "    u_im, x_i, t_i, y_i= e_c_metodoimplicito(alpha, funcion, dx, dt, T)\n",
    "    \n",
    "    fig, (ax1, ax2) = plt.subplots(1, 2, figsize=(12,4))\n",
    "    \n",
    "    # Líneas iniciales\n",
    "    line_ex, = ax1.plot(x_e, u_ex[0, :], color='blue')\n",
    "    ax1.set_title(\"Método Explícito\")\n",
    "    ax1.set_xlim(0, 1)\n",
    "    ax1.set_ylim(0, 1.1*np.max(u_ex))\n",
    "    ax1.set_xlabel(\"x\")\n",
    "    ax1.set_ylabel(\"u(x,t)\")\n",
    "    ax1.grid(True)\n",
    "\n",
    "    line_im, = ax2.plot(x_i, u_im[0, :], color='red')\n",
    "    ax2.set_title(\"Método Implícito\")\n",
    "    ax2.set_xlim(0, 1)\n",
    "    ax2.set_ylim(0, 1.1*np.max(u_ex))\n",
    "    ax2.set_xlabel(\"x\")\n",
    "    ax2.set_ylabel(\"u(x,t)\")\n",
    "    ax2.grid(True)\n",
    "\n",
    "    # Función que actualiza cada frame\n",
    "    def actualizar(frame):\n",
    "        line_ex.set_ydata(u_ex[frame, :])\n",
    "        ax1.set_title(f\"Método Explícito t={t_e[frame]:.3f}\")\n",
    "        line_im.set_ydata(u_im[frame, :])\n",
    "        ax2.set_title(f\"Método Implícito t={t_i[frame]:.3f}\")\n",
    "        return line_ex, line_im\n",
    "\n",
    "    anim = FuncAnimation(fig, actualizar, frames=len(t_e), interval=100, blit=True)\n",
    "    anim.save(nombre_gif, writer=PillowWriter(fps=5))\n",
    "    print(f\"GIF guardado como {nombre_gif}\")\n",
    "\n"
   ]
  },
  {
   "cell_type": "code",
   "execution_count": 123,
   "id": "35f8e817",
   "metadata": {},
   "outputs": [
    {
     "name": "stdout",
     "output_type": "stream",
     "text": [
      "GIF guardado como metodo_ex_vs_im.gif\n"
     ]
    },
    {
     "data": {
      "image/png": "[encoded data removed]",
      "text/plain": [
       "<Figure size 1200x400 with 2 Axes>"
      ]
     },
     "metadata": {},
     "output_type": "display_data"
    }
   ],
   "source": [
    "crear_gif(alpha, condicion_inicial, dx, dt, T, \"metodo_ex_vs_im.gif\")\n"
   ]
  },
  {
   "cell_type": "code",
   "execution_count": 124,
   "id": "a9faa131",
   "metadata": {},
   "outputs": [
    {
     "data": {
      "text/plain": [
       "array([0.  , 0.05, 0.1 , 0.15, 0.2 , 0.25, 0.3 , 0.35, 0.4 , 0.45, 0.5 ,\n",
       "       0.55, 0.6 , 0.65, 0.7 , 0.75, 0.8 , 0.85, 0.9 , 0.95, 1.  ])"
      ]
     },
     "execution_count": 124,
     "metadata": {},
     "output_type": "execute_result"
    }
   ],
   "source": [
    "x_e"
   ]
  },
  {
   "cell_type": "code",
   "execution_count": 125,
   "id": "dbc36398",
   "metadata": {},
   "outputs": [
    {
     "data": {
      "text/plain": [
       "array([0.      , 0.196928, 0.386176, 0.552384, 0.684032, 0.76096 ,\n",
       "       0.78608 , 0.7616  , 0.71792 , 0.67424 , 0.65936 , 0.67424 ,\n",
       "       0.71792 , 0.7616  , 0.78608 , 0.76096 , 0.684032, 0.552384,\n",
       "       0.386176, 0.196928, 0.      ])"
      ]
     },
     "execution_count": 125,
     "metadata": {},
     "output_type": "execute_result"
    }
   ],
   "source": [
    "U_e[5, :]\n"
   ]
  },
  {
   "cell_type": "code",
   "execution_count": 126,
   "id": "2bc9ecc8",
   "metadata": {},
   "outputs": [
    {
     "data": {
      "text/plain": [
       "array([0.        , 0.19355404, 0.38096998, 0.55247076, 0.69168164,\n",
       "       0.77716405, 0.79593322, 0.7650001 , 0.71216983, 0.66431714,\n",
       "       0.64438825, 0.66431714, 0.71216983, 0.7650001 , 0.79593322,\n",
       "       0.77716405, 0.69168164, 0.55247076, 0.38096998, 0.19355404,\n",
       "       0.        ])"
      ]
     },
     "execution_count": 126,
     "metadata": {},
     "output_type": "execute_result"
    }
   ],
   "source": [
    "U_i[5, :]"
   ]
  }
 ],
 "metadata": {
  "kernelspec": {
   "display_name": "Python 3",
   "language": "python",
   "name": "python3"
  },
  "language_info": {
   "codemirror_mode": {
    "name": "ipython",
    "version": 3
   },
   "file_extension": ".py",
   "mimetype": "text/x-python",
   "name": "python",
   "nbconvert_exporter": "python",
   "pygments_lexer": "ipython3",
   "version": "3.13.4"
  }
 },
 "nbformat": 4,
 "nbformat_minor": 5
}
