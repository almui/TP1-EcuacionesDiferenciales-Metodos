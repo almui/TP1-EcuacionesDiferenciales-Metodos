{
 "cells": [
  {
   "cell_type": "code",
   "execution_count": null,
   "id": "33c9ca51",
   "metadata": {
    "vscode": {
     "languageId": "plaintext"
    }
   },
   "outputs": [],
   "source": [
    "import numpy as np\n",
    "import pandas as pd\n",
    "import matplotlib as mplot"
   ]
  }
 ],
 "metadata": {
  "language_info": {
   "name": "python"
  }
 },
 "nbformat": 4,
 "nbformat_minor": 5
}
