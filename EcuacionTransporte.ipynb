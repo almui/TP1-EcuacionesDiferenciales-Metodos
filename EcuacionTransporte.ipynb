{
 "cells": [
  {
   "cell_type": "markdown",
   "id": "c26c1219",
   "metadata": {},
   "source": [
    "Universidad Torcuato Di Tella\n",
    "\n",
    "Metodos computacionales\\\n",
    "**Trabajo Práctico 1:\n",
    "Resoluciones Numéricas de Ecuaciones Diferenciales**"
   ]
  },
  {
   "cell_type": "code",
   "execution_count": null,
   "id": "e4e776ce",
   "metadata": {},
   "outputs": [],
   "source": [
    "import numpy as np\n",
    "import pandas as pd\n",
    "import matplotlib.pyplot as plt\n",
    "#comentario"
   ]
  }
 ],
 "metadata": {
  "language_info": {
   "name": "python"
  }
 },
 "nbformat": 4,
 "nbformat_minor": 5
}
